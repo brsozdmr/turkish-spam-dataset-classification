{
  "metadata": {
    "language_info": {
      "codemirror_mode": {
        "name": "python",
        "version": 3
      },
      "file_extension": ".py",
      "mimetype": "text/x-python",
      "name": "python",
      "nbconvert_exporter": "python",
      "pygments_lexer": "ipython3",
      "version": "3.8"
    },
    "kernelspec": {
      "name": "python",
      "display_name": "Python (Pyodide)",
      "language": "python"
    }
  },
  "nbformat_minor": 4,
  "nbformat": 4,
  "cells": [
    {
      "cell_type": "code",
      "source": "import pandas as pd \nimport numpy as np\nimport nltk\nfrom nltk.corpus import stopwords\nimport string\nfrom sklearn.feature_extraction.text import TfidfVectorizer\nimport re\nfrom sklearn.feature_extraction.text import CountVectorizer\nfrom sklearn.metrics import accuracy_score, precision_score, recall_score, f1_score\nfrom sklearn import svm\nfrom sklearn.naive_bayes import MultinomialNB\nfrom sklearn import tree\nimport matplotlib.pyplot as plt\n\n",
      "metadata": {
        "trusted": true
      },
      "execution_count": 10,
      "outputs": []
    },
    {
      "cell_type": "code",
      "source": "veriseti=pd.read_csv(\"trspam.csv\",on_bad_lines='skip')",
      "metadata": {
        "trusted": true
      },
      "execution_count": 11,
      "outputs": []
    },
    {
      "cell_type": "code",
      "source": "veriseti",
      "metadata": {
        "trusted": true
      },
      "execution_count": 12,
      "outputs": [
        {
          "execution_count": 12,
          "output_type": "execute_result",
          "data": {
            "text/plain": "                                                  Text Classification\n0    Sayın Yetkili ,\\r\\n  Gelişen ve değişen günümü...           spam\n1    Sayın Yetkili,\\r\\n \\r\\n28 Kasım 2010 tarihli K...           spam\n2    Sayın Yetkili ,\\r\\n  Gelişen ve değişen günümü...           spam\n3    T.C.\\r\\nURLA KAYMAKAMLIĞI\\r\\nURLA HAKAN ÇEKEN ...           spam\n4    Sayın Yetkili ,Hızla büyüyen ve gelişmekte ola...           spam\n..                                                 ...            ...\n696  DQoNCg0KDQoNCmdhcmRhuiBhumG7uWRha2kgZm9ybWF0dG...            ham\n697  Ã¶zlem sent you a message.\\r\\n\\r\\n(no subject)...            ham\n698  Sayın Hocalarım, değerli zamanınızı aldığım iç...            ham\n699  PGh0bWw+DQo8aGVhZD4NCjx0aXRsZT5DaGlwJmFtcDtQSU...            ham\n700  PCFET0NUWVBFIGh0bWwgUFVCTElDICItLy9XM0MvL0RURC...            ham\n\n[701 rows x 2 columns]",
            "text/html": "<div>\n<style scoped>\n    .dataframe tbody tr th:only-of-type {\n        vertical-align: middle;\n    }\n\n    .dataframe tbody tr th {\n        vertical-align: top;\n    }\n\n    .dataframe thead th {\n        text-align: right;\n    }\n</style>\n<table border=\"1\" class=\"dataframe\">\n  <thead>\n    <tr style=\"text-align: right;\">\n      <th></th>\n      <th>Text</th>\n      <th>Classification</th>\n    </tr>\n  </thead>\n  <tbody>\n    <tr>\n      <th>0</th>\n      <td>Sayın Yetkili ,\\r\\n  Gelişen ve değişen günümü...</td>\n      <td>spam</td>\n    </tr>\n    <tr>\n      <th>1</th>\n      <td>Sayın Yetkili,\\r\\n \\r\\n28 Kasım 2010 tarihli K...</td>\n      <td>spam</td>\n    </tr>\n    <tr>\n      <th>2</th>\n      <td>Sayın Yetkili ,\\r\\n  Gelişen ve değişen günümü...</td>\n      <td>spam</td>\n    </tr>\n    <tr>\n      <th>3</th>\n      <td>T.C.\\r\\nURLA KAYMAKAMLIĞI\\r\\nURLA HAKAN ÇEKEN ...</td>\n      <td>spam</td>\n    </tr>\n    <tr>\n      <th>4</th>\n      <td>Sayın Yetkili ,Hızla büyüyen ve gelişmekte ola...</td>\n      <td>spam</td>\n    </tr>\n    <tr>\n      <th>...</th>\n      <td>...</td>\n      <td>...</td>\n    </tr>\n    <tr>\n      <th>696</th>\n      <td>DQoNCg0KDQoNCmdhcmRhuiBhumG7uWRha2kgZm9ybWF0dG...</td>\n      <td>ham</td>\n    </tr>\n    <tr>\n      <th>697</th>\n      <td>Ã¶zlem sent you a message.\\r\\n\\r\\n(no subject)...</td>\n      <td>ham</td>\n    </tr>\n    <tr>\n      <th>698</th>\n      <td>Sayın Hocalarım, değerli zamanınızı aldığım iç...</td>\n      <td>ham</td>\n    </tr>\n    <tr>\n      <th>699</th>\n      <td>PGh0bWw+DQo8aGVhZD4NCjx0aXRsZT5DaGlwJmFtcDtQSU...</td>\n      <td>ham</td>\n    </tr>\n    <tr>\n      <th>700</th>\n      <td>PCFET0NUWVBFIGh0bWwgUFVCTElDICItLy9XM0MvL0RURC...</td>\n      <td>ham</td>\n    </tr>\n  </tbody>\n</table>\n<p>701 rows × 2 columns</p>\n</div>"
          },
          "metadata": {}
        }
      ]
    },
    {
      "cell_type": "code",
      "source": "veriseti.drop_duplicates(inplace=True) #kopyalanmış veri kontrolü ve silinmesi\n",
      "metadata": {
        "trusted": true
      },
      "execution_count": 13,
      "outputs": []
    },
    {
      "cell_type": "code",
      "source": "print(veriseti.head())\n\n",
      "metadata": {
        "trusted": true
      },
      "execution_count": 14,
      "outputs": [
        {
          "name": "stdout",
          "text": "                                                Text Classification\n0  Sayın Yetkili ,\\r\\n  Gelişen ve değişen günümü...           spam\n1  Sayın Yetkili,\\r\\n \\r\\n28 Kasım 2010 tarihli K...           spam\n2  Sayın Yetkili ,\\r\\n  Gelişen ve değişen günümü...           spam\n3  T.C.\\r\\nURLA KAYMAKAMLIĞI\\r\\nURLA HAKAN ÇEKEN ...           spam\n4  Sayın Yetkili ,Hızla büyüyen ve gelişmekte ola...           spam\n",
          "output_type": "stream"
        }
      ]
    },
    {
      "cell_type": "code",
      "source": "print(veriseti.columns)",
      "metadata": {
        "trusted": true
      },
      "execution_count": 15,
      "outputs": [
        {
          "name": "stdout",
          "text": "Index(['Text', 'Classification'], dtype='object')\n",
          "output_type": "stream"
        }
      ]
    },
    {
      "cell_type": "code",
      "source": "veriseti.shape #kopyalanmış veri kontrolü ve silinmesi sonrası veri boyutu",
      "metadata": {
        "trusted": true
      },
      "execution_count": 16,
      "outputs": [
        {
          "execution_count": 16,
          "output_type": "execute_result",
          "data": {
            "text/plain": "(635, 2)"
          },
          "metadata": {}
        }
      ]
    },
    {
      "cell_type": "code",
      "source": "veriseti.isnull().sum() ",
      "metadata": {
        "trusted": true
      },
      "execution_count": 17,
      "outputs": [
        {
          "execution_count": 17,
          "output_type": "execute_result",
          "data": {
            "text/plain": "Text              1\nClassification    0\ndtype: int64"
          },
          "metadata": {}
        }
      ]
    },
    {
      "cell_type": "code",
      "source": "text_data = veriseti['Text']\nlabels = veriseti['Classification']",
      "metadata": {
        "trusted": true
      },
      "execution_count": 229,
      "outputs": []
    },
    {
      "cell_type": "code",
      "source": "veriseti = veriseti.fillna('')  # Boş değerleri boş bir string ile doldurur",
      "metadata": {
        "trusted": true
      },
      "execution_count": 196,
      "outputs": []
    },
    {
      "cell_type": "code",
      "source": "def metinTemizle(Text):\n    Text = re.sub('[^a-zA-ZğüşıöçĞÜŞİÖÇ ]', '', Text)\n    Text = Text.lower()\n    Text = Text.strip()\n    return Text",
      "metadata": {
        "trusted": true
      },
      "execution_count": 197,
      "outputs": []
    },
    {
      "cell_type": "code",
      "source": "veriseti['Text'] = veriseti['Text'].apply(metinTemizle)",
      "metadata": {
        "trusted": true
      },
      "execution_count": 198,
      "outputs": []
    },
    {
      "cell_type": "code",
      "source": "stop_words=['fakat','lakin','ancak','acaba', 'ama', 'aslında', 'az', 'bazı', \n            'belki', 'biri', 'birkaç', 'birşey', 'biz', 'bu', 'çok', 'çünkü',\n            'da', 'daha', 'de', 'defa', 'diye', 'eğer', 'en', 'gibi', 'hem', \n            'hep', 'hepsi', 'her', 'hiç', 'için', 'ile', 'ise', 'kez', 'ki', \n            'kim', 'mı', 'mu', 'mü', 'nasıl', 'ne', 'neden', 'nerde', 'nerede', \n            'nereye', 'niçin', 'niye', 'o', 'sanki', 'şey', 'siz', 'şu', 'tüm', 've', 'veya', 'ya', 'yani']",
      "metadata": {
        "trusted": true
      },
      "execution_count": 199,
      "outputs": []
    },
    {
      "cell_type": "code",
      "source": "",
      "metadata": {
        "trusted": true
      },
      "execution_count": null,
      "outputs": []
    },
    {
      "cell_type": "code",
      "source": "def stopwordsSilme(Text):\n    kelimeler = Text.split()\n    secilenKelimeler = [word for word in kelimeler if word not in stop_words]\n    return ' '.join(secilenKelimeler)",
      "metadata": {
        "trusted": true
      },
      "execution_count": 200,
      "outputs": []
    },
    {
      "cell_type": "code",
      "source": "veriseti['Text'] = veriseti['Text'].apply(stopwordsSilme)",
      "metadata": {
        "trusted": true
      },
      "execution_count": 201,
      "outputs": []
    },
    {
      "cell_type": "code",
      "source": "veriseti",
      "metadata": {
        "trusted": true
      },
      "execution_count": 202,
      "outputs": [
        {
          "execution_count": 202,
          "output_type": "execute_result",
          "data": {
            "text/plain": "                                                  Text Classification\n0    sayın yetkili gelişen değişen günümüz teknoloj...           spam\n1    sayın yetkili kasım tarihli kpss sınavı sonucu...           spam\n2    sayın yetkili gelişen değişen günümüz teknoloj...           spam\n3    tcurla kaymakamliğiurla hakan çeken anadolu li...           spam\n4    sayın yetkili hızla büyüyen gelişmekte olan to...           spam\n..                                                 ...            ...\n696  dqoncgkdqoncmdhcmrhuibhumguwrhakgzmybwfdgegnpn...            ham\n697  zlem sent you a messageno subject sayfalk yeni...            ham\n698  sayın hocalarım değerli zamanınızı aldığım üzg...            ham\n699  pghbwwdqoagvhzdncjxaxrsztdaglwjmftcdtqsulrpdgx...            ham\n700  pcfetnuwvbfighbwwgufvcteldicitlyxmmvlrurcbysfr...            ham\n\n[635 rows x 2 columns]",
            "text/html": "<div>\n<style scoped>\n    .dataframe tbody tr th:only-of-type {\n        vertical-align: middle;\n    }\n\n    .dataframe tbody tr th {\n        vertical-align: top;\n    }\n\n    .dataframe thead th {\n        text-align: right;\n    }\n</style>\n<table border=\"1\" class=\"dataframe\">\n  <thead>\n    <tr style=\"text-align: right;\">\n      <th></th>\n      <th>Text</th>\n      <th>Classification</th>\n    </tr>\n  </thead>\n  <tbody>\n    <tr>\n      <th>0</th>\n      <td>sayın yetkili gelişen değişen günümüz teknoloj...</td>\n      <td>spam</td>\n    </tr>\n    <tr>\n      <th>1</th>\n      <td>sayın yetkili kasım tarihli kpss sınavı sonucu...</td>\n      <td>spam</td>\n    </tr>\n    <tr>\n      <th>2</th>\n      <td>sayın yetkili gelişen değişen günümüz teknoloj...</td>\n      <td>spam</td>\n    </tr>\n    <tr>\n      <th>3</th>\n      <td>tcurla kaymakamliğiurla hakan çeken anadolu li...</td>\n      <td>spam</td>\n    </tr>\n    <tr>\n      <th>4</th>\n      <td>sayın yetkili hızla büyüyen gelişmekte olan to...</td>\n      <td>spam</td>\n    </tr>\n    <tr>\n      <th>...</th>\n      <td>...</td>\n      <td>...</td>\n    </tr>\n    <tr>\n      <th>696</th>\n      <td>dqoncgkdqoncmdhcmrhuibhumguwrhakgzmybwfdgegnpn...</td>\n      <td>ham</td>\n    </tr>\n    <tr>\n      <th>697</th>\n      <td>zlem sent you a messageno subject sayfalk yeni...</td>\n      <td>ham</td>\n    </tr>\n    <tr>\n      <th>698</th>\n      <td>sayın hocalarım değerli zamanınızı aldığım üzg...</td>\n      <td>ham</td>\n    </tr>\n    <tr>\n      <th>699</th>\n      <td>pghbwwdqoagvhzdncjxaxrsztdaglwjmftcdtqsulrpdgx...</td>\n      <td>ham</td>\n    </tr>\n    <tr>\n      <th>700</th>\n      <td>pcfetnuwvbfighbwwgufvcteldicitlyxmmvlrurcbysfr...</td>\n      <td>ham</td>\n    </tr>\n  </tbody>\n</table>\n<p>635 rows × 2 columns</p>\n</div>"
          },
          "metadata": {}
        }
      ]
    },
    {
      "cell_type": "code",
      "source": "\n\n",
      "metadata": {
        "trusted": true
      },
      "execution_count": 225,
      "outputs": [
        {
          "ename": "<class 'ModuleNotFoundError'>",
          "evalue": "No module named 'seaborn'",
          "traceback": [
            "\u001b[0;31m---------------------------------------------------------------------------\u001b[0m",
            "\u001b[0;31mModuleNotFoundError\u001b[0m                       Traceback (most recent call last)",
            "Cell \u001b[0;32mIn[225], line 2\u001b[0m\n\u001b[1;32m      1\u001b[0m \u001b[38;5;28;01mimport\u001b[39;00m \u001b[38;5;21;01mmatplotlib\u001b[39;00m\u001b[38;5;21;01m.\u001b[39;00m\u001b[38;5;21;01mpyplot\u001b[39;00m \u001b[38;5;28;01mas\u001b[39;00m \u001b[38;5;21;01mplt\u001b[39;00m\n\u001b[0;32m----> 2\u001b[0m \u001b[38;5;28;01mimport\u001b[39;00m \u001b[38;5;21;01mseaborn\u001b[39;00m \u001b[38;5;28;01mas\u001b[39;00m \u001b[38;5;21;01msns\u001b[39;00m\n\u001b[1;32m      4\u001b[0m \u001b[38;5;66;03m# Hedef değişkenin sınıf dağılımını hesaplayın\u001b[39;00m\n\u001b[1;32m      5\u001b[0m class_counts \u001b[38;5;241m=\u001b[39m veriseti[\u001b[38;5;124m'\u001b[39m\u001b[38;5;124mtarget_variable\u001b[39m\u001b[38;5;124m'\u001b[39m]\u001b[38;5;241m.\u001b[39mvalue_counts()\n",
            "\u001b[0;31mModuleNotFoundError\u001b[0m: No module named 'seaborn'"
          ],
          "output_type": "error"
        }
      ]
    },
    {
      "cell_type": "code",
      "source": "#vectorizer = TfidfVectorizer()\n#X = vectorizer.fit_transform(veriseti['Text']) bu yöntem ile ",
      "metadata": {
        "trusted": true
      },
      "execution_count": 203,
      "outputs": []
    },
    {
      "cell_type": "code",
      "source": "vectorizer = CountVectorizer()\nX = vectorizer.fit_transform(veriseti['Text'])",
      "metadata": {
        "trusted": true
      },
      "execution_count": 204,
      "outputs": []
    },
    {
      "cell_type": "code",
      "source": "y = vectorizer.fit_transform(veriseti['Classification'])",
      "metadata": {
        "trusted": true
      },
      "execution_count": 205,
      "outputs": []
    },
    {
      "cell_type": "code",
      "source": "from sklearn.model_selection import train_test_split\n\nX_train, X_test, y_train, y_test = train_test_split(X, y, test_size=0.2, random_state=42)\n",
      "metadata": {
        "trusted": true
      },
      "execution_count": 206,
      "outputs": []
    },
    {
      "cell_type": "code",
      "source": "X_train_dense = X_train.toarray()\nX_test_dense = X_test.toarray()",
      "metadata": {
        "trusted": true
      },
      "execution_count": 207,
      "outputs": []
    },
    {
      "cell_type": "code",
      "source": "y_train_dense = y_train.toarray()\ny_test_dense = y_test.toarray()\ny_train_dense=y_train_dense[:, 0]\ny_test_dense=y_test_dense[:, 0]",
      "metadata": {
        "trusted": true
      },
      "execution_count": 208,
      "outputs": []
    },
    {
      "cell_type": "code",
      "source": "#Support Vector Machines Algoritması --SVM--",
      "metadata": {
        "trusted": true
      },
      "execution_count": 209,
      "outputs": []
    },
    {
      "cell_type": "code",
      "source": "#Support Vector Machines Algoritması --SVM--\nmodel_SVM = svm.SVC()\nmodel_SVM.fit(X_train_dense, y_train_dense)",
      "metadata": {
        "trusted": true
      },
      "execution_count": 210,
      "outputs": [
        {
          "execution_count": 210,
          "output_type": "execute_result",
          "data": {
            "text/plain": "SVC()",
            "text/html": "<style>#sk-container-id-17 {color: black;background-color: white;}#sk-container-id-17 pre{padding: 0;}#sk-container-id-17 div.sk-toggleable {background-color: white;}#sk-container-id-17 label.sk-toggleable__label {cursor: pointer;display: block;width: 100%;margin-bottom: 0;padding: 0.3em;box-sizing: border-box;text-align: center;}#sk-container-id-17 label.sk-toggleable__label-arrow:before {content: \"▸\";float: left;margin-right: 0.25em;color: #696969;}#sk-container-id-17 label.sk-toggleable__label-arrow:hover:before {color: black;}#sk-container-id-17 div.sk-estimator:hover label.sk-toggleable__label-arrow:before {color: black;}#sk-container-id-17 div.sk-toggleable__content {max-height: 0;max-width: 0;overflow: hidden;text-align: left;background-color: #f0f8ff;}#sk-container-id-17 div.sk-toggleable__content pre {margin: 0.2em;color: black;border-radius: 0.25em;background-color: #f0f8ff;}#sk-container-id-17 input.sk-toggleable__control:checked~div.sk-toggleable__content {max-height: 200px;max-width: 100%;overflow: auto;}#sk-container-id-17 input.sk-toggleable__control:checked~label.sk-toggleable__label-arrow:before {content: \"▾\";}#sk-container-id-17 div.sk-estimator input.sk-toggleable__control:checked~label.sk-toggleable__label {background-color: #d4ebff;}#sk-container-id-17 div.sk-label input.sk-toggleable__control:checked~label.sk-toggleable__label {background-color: #d4ebff;}#sk-container-id-17 input.sk-hidden--visually {border: 0;clip: rect(1px 1px 1px 1px);clip: rect(1px, 1px, 1px, 1px);height: 1px;margin: -1px;overflow: hidden;padding: 0;position: absolute;width: 1px;}#sk-container-id-17 div.sk-estimator {font-family: monospace;background-color: #f0f8ff;border: 1px dotted black;border-radius: 0.25em;box-sizing: border-box;margin-bottom: 0.5em;}#sk-container-id-17 div.sk-estimator:hover {background-color: #d4ebff;}#sk-container-id-17 div.sk-parallel-item::after {content: \"\";width: 100%;border-bottom: 1px solid gray;flex-grow: 1;}#sk-container-id-17 div.sk-label:hover label.sk-toggleable__label {background-color: #d4ebff;}#sk-container-id-17 div.sk-serial::before {content: \"\";position: absolute;border-left: 1px solid gray;box-sizing: border-box;top: 0;bottom: 0;left: 50%;z-index: 0;}#sk-container-id-17 div.sk-serial {display: flex;flex-direction: column;align-items: center;background-color: white;padding-right: 0.2em;padding-left: 0.2em;position: relative;}#sk-container-id-17 div.sk-item {position: relative;z-index: 1;}#sk-container-id-17 div.sk-parallel {display: flex;align-items: stretch;justify-content: center;background-color: white;position: relative;}#sk-container-id-17 div.sk-item::before, #sk-container-id-17 div.sk-parallel-item::before {content: \"\";position: absolute;border-left: 1px solid gray;box-sizing: border-box;top: 0;bottom: 0;left: 50%;z-index: -1;}#sk-container-id-17 div.sk-parallel-item {display: flex;flex-direction: column;z-index: 1;position: relative;background-color: white;}#sk-container-id-17 div.sk-parallel-item:first-child::after {align-self: flex-end;width: 50%;}#sk-container-id-17 div.sk-parallel-item:last-child::after {align-self: flex-start;width: 50%;}#sk-container-id-17 div.sk-parallel-item:only-child::after {width: 0;}#sk-container-id-17 div.sk-dashed-wrapped {border: 1px dashed gray;margin: 0 0.4em 0.5em 0.4em;box-sizing: border-box;padding-bottom: 0.4em;background-color: white;}#sk-container-id-17 div.sk-label label {font-family: monospace;font-weight: bold;display: inline-block;line-height: 1.2em;}#sk-container-id-17 div.sk-label-container {text-align: center;}#sk-container-id-17 div.sk-container {/* jupyter's `normalize.less` sets `[hidden] { display: none; }` but bootstrap.min.css set `[hidden] { display: none !important; }` so we also need the `!important` here to be able to override the default hidden behavior on the sphinx rendered scikit-learn.org. See: https://github.com/scikit-learn/scikit-learn/issues/21755 */display: inline-block !important;position: relative;}#sk-container-id-17 div.sk-text-repr-fallback {display: none;}</style><div id=\"sk-container-id-17\" class=\"sk-top-container\"><div class=\"sk-text-repr-fallback\"><pre>SVC()</pre><b>In a Jupyter environment, please rerun this cell to show the HTML representation or trust the notebook. <br />On GitHub, the HTML representation is unable to render, please try loading this page with nbviewer.org.</b></div><div class=\"sk-container\" hidden><div class=\"sk-item\"><div class=\"sk-estimator sk-toggleable\"><input class=\"sk-toggleable__control sk-hidden--visually\" id=\"sk-estimator-id-17\" type=\"checkbox\" checked><label for=\"sk-estimator-id-17\" class=\"sk-toggleable__label sk-toggleable__label-arrow\">SVC</label><div class=\"sk-toggleable__content\"><pre>SVC()</pre></div></div></div></div></div>"
          },
          "metadata": {}
        }
      ]
    },
    {
      "cell_type": "code",
      "source": "y_pred_SVM = model_SVM.predict(X_test_dense)",
      "metadata": {
        "trusted": true
      },
      "execution_count": 211,
      "outputs": []
    },
    {
      "cell_type": "code",
      "source": "accuracy_SVM = accuracy_score(y_test_dense, y_pred_SVM)\nprecision_SVM = precision_score(y_test_dense, y_pred_SVM)\nrecall_SVM = recall_score(y_test_dense, y_pred_SVM)\nf1_SVM = f1_score(y_test_dense, y_pred_SVM)",
      "metadata": {
        "trusted": true
      },
      "execution_count": 212,
      "outputs": []
    },
    {
      "cell_type": "code",
      "source": "print(\"Support Vector Machines Algoritması İçin Sonuçlar\")\nprint(\"Doğruluk(Accuracy):\", accuracy_SVM)\nprint(\"Kesinlik(Precision):\", precision_SVM)\nprint(\"Duyarlılık(Recall):\", recall_SVM)\nprint(\"F1 Skor:\", f1_SVM)",
      "metadata": {
        "trusted": true
      },
      "execution_count": 213,
      "outputs": [
        {
          "name": "stdout",
          "text": "Support Vector Machines Algoritması İçin Sonuçlar\nDoğruluk(Accuracy): 0.8110236220472441\nKesinlik(Precision): 0.7669902912621359\nDuyarlılık(Recall): 1.0\nF1 Skor: 0.868131868131868\n",
          "output_type": "stream"
        }
      ]
    },
    {
      "cell_type": "code",
      "source": "#Multinomial Naive Bayes Algoritması  --MultinomialNB--",
      "metadata": {
        "trusted": true
      },
      "execution_count": 214,
      "outputs": []
    },
    {
      "cell_type": "code",
      "source": "# Multinomial Naive Bayes Algoritması  --MultinomialNB--\nmodel_MNB = MultinomialNB()\nmodel_MNB.fit(X_train_dense, y_train_dense)\n",
      "metadata": {
        "trusted": true
      },
      "execution_count": 215,
      "outputs": [
        {
          "execution_count": 215,
          "output_type": "execute_result",
          "data": {
            "text/plain": "MultinomialNB()",
            "text/html": "<style>#sk-container-id-18 {color: black;background-color: white;}#sk-container-id-18 pre{padding: 0;}#sk-container-id-18 div.sk-toggleable {background-color: white;}#sk-container-id-18 label.sk-toggleable__label {cursor: pointer;display: block;width: 100%;margin-bottom: 0;padding: 0.3em;box-sizing: border-box;text-align: center;}#sk-container-id-18 label.sk-toggleable__label-arrow:before {content: \"▸\";float: left;margin-right: 0.25em;color: #696969;}#sk-container-id-18 label.sk-toggleable__label-arrow:hover:before {color: black;}#sk-container-id-18 div.sk-estimator:hover label.sk-toggleable__label-arrow:before {color: black;}#sk-container-id-18 div.sk-toggleable__content {max-height: 0;max-width: 0;overflow: hidden;text-align: left;background-color: #f0f8ff;}#sk-container-id-18 div.sk-toggleable__content pre {margin: 0.2em;color: black;border-radius: 0.25em;background-color: #f0f8ff;}#sk-container-id-18 input.sk-toggleable__control:checked~div.sk-toggleable__content {max-height: 200px;max-width: 100%;overflow: auto;}#sk-container-id-18 input.sk-toggleable__control:checked~label.sk-toggleable__label-arrow:before {content: \"▾\";}#sk-container-id-18 div.sk-estimator input.sk-toggleable__control:checked~label.sk-toggleable__label {background-color: #d4ebff;}#sk-container-id-18 div.sk-label input.sk-toggleable__control:checked~label.sk-toggleable__label {background-color: #d4ebff;}#sk-container-id-18 input.sk-hidden--visually {border: 0;clip: rect(1px 1px 1px 1px);clip: rect(1px, 1px, 1px, 1px);height: 1px;margin: -1px;overflow: hidden;padding: 0;position: absolute;width: 1px;}#sk-container-id-18 div.sk-estimator {font-family: monospace;background-color: #f0f8ff;border: 1px dotted black;border-radius: 0.25em;box-sizing: border-box;margin-bottom: 0.5em;}#sk-container-id-18 div.sk-estimator:hover {background-color: #d4ebff;}#sk-container-id-18 div.sk-parallel-item::after {content: \"\";width: 100%;border-bottom: 1px solid gray;flex-grow: 1;}#sk-container-id-18 div.sk-label:hover label.sk-toggleable__label {background-color: #d4ebff;}#sk-container-id-18 div.sk-serial::before {content: \"\";position: absolute;border-left: 1px solid gray;box-sizing: border-box;top: 0;bottom: 0;left: 50%;z-index: 0;}#sk-container-id-18 div.sk-serial {display: flex;flex-direction: column;align-items: center;background-color: white;padding-right: 0.2em;padding-left: 0.2em;position: relative;}#sk-container-id-18 div.sk-item {position: relative;z-index: 1;}#sk-container-id-18 div.sk-parallel {display: flex;align-items: stretch;justify-content: center;background-color: white;position: relative;}#sk-container-id-18 div.sk-item::before, #sk-container-id-18 div.sk-parallel-item::before {content: \"\";position: absolute;border-left: 1px solid gray;box-sizing: border-box;top: 0;bottom: 0;left: 50%;z-index: -1;}#sk-container-id-18 div.sk-parallel-item {display: flex;flex-direction: column;z-index: 1;position: relative;background-color: white;}#sk-container-id-18 div.sk-parallel-item:first-child::after {align-self: flex-end;width: 50%;}#sk-container-id-18 div.sk-parallel-item:last-child::after {align-self: flex-start;width: 50%;}#sk-container-id-18 div.sk-parallel-item:only-child::after {width: 0;}#sk-container-id-18 div.sk-dashed-wrapped {border: 1px dashed gray;margin: 0 0.4em 0.5em 0.4em;box-sizing: border-box;padding-bottom: 0.4em;background-color: white;}#sk-container-id-18 div.sk-label label {font-family: monospace;font-weight: bold;display: inline-block;line-height: 1.2em;}#sk-container-id-18 div.sk-label-container {text-align: center;}#sk-container-id-18 div.sk-container {/* jupyter's `normalize.less` sets `[hidden] { display: none; }` but bootstrap.min.css set `[hidden] { display: none !important; }` so we also need the `!important` here to be able to override the default hidden behavior on the sphinx rendered scikit-learn.org. See: https://github.com/scikit-learn/scikit-learn/issues/21755 */display: inline-block !important;position: relative;}#sk-container-id-18 div.sk-text-repr-fallback {display: none;}</style><div id=\"sk-container-id-18\" class=\"sk-top-container\"><div class=\"sk-text-repr-fallback\"><pre>MultinomialNB()</pre><b>In a Jupyter environment, please rerun this cell to show the HTML representation or trust the notebook. <br />On GitHub, the HTML representation is unable to render, please try loading this page with nbviewer.org.</b></div><div class=\"sk-container\" hidden><div class=\"sk-item\"><div class=\"sk-estimator sk-toggleable\"><input class=\"sk-toggleable__control sk-hidden--visually\" id=\"sk-estimator-id-18\" type=\"checkbox\" checked><label for=\"sk-estimator-id-18\" class=\"sk-toggleable__label sk-toggleable__label-arrow\">MultinomialNB</label><div class=\"sk-toggleable__content\"><pre>MultinomialNB()</pre></div></div></div></div></div>"
          },
          "metadata": {}
        }
      ]
    },
    {
      "cell_type": "code",
      "source": "y_pred_MNB = model_MNB.predict(X_test_dense)",
      "metadata": {
        "trusted": true
      },
      "execution_count": 216,
      "outputs": []
    },
    {
      "cell_type": "code",
      "source": "accuracy_MNB = accuracy_score(y_test_dense, y_pred_MNB)\nprecision_MNB = precision_score(y_test_dense, y_pred_MNB)\nrecall_MNB = recall_score(y_test_dense, y_pred_MNB)\nf1_MNB = f1_score(y_test_dense, y_pred_MNB)\n",
      "metadata": {
        "trusted": true
      },
      "execution_count": 217,
      "outputs": []
    },
    {
      "cell_type": "code",
      "source": "print(\"Multinomial Naive Bayes Algoritması İçin Sonuçlar\")\nprint(\"Doğruluk(Accuracy):\", accuracy_MNB)\nprint(\"Kesinlik(Precision):\", precision_MNB)\nprint(\"Duyarlılık(Recall):\", recall_MNB)\nprint(\"F1 Skor:\", f1_MNB)",
      "metadata": {
        "trusted": true
      },
      "execution_count": 218,
      "outputs": [
        {
          "name": "stdout",
          "text": "Multinomial Naive Bayes Algoritması İçin Sonuçlar\nDoğruluk(Accuracy): 0.9212598425196851\nKesinlik(Precision): 0.9156626506024096\nDuyarlılık(Recall): 0.9620253164556962\nF1 Skor: 0.9382716049382716\n",
          "output_type": "stream"
        }
      ]
    },
    {
      "cell_type": "code",
      "source": "# Decision Trees ( Karar Ağaçları ) Algoritması --DCT--",
      "metadata": {
        "trusted": true
      },
      "execution_count": 219,
      "outputs": []
    },
    {
      "cell_type": "code",
      "source": "model_DCT = tree.DecisionTreeClassifier()\nmodel_DCT.fit(X_train_dense, y_train_dense)",
      "metadata": {
        "trusted": true
      },
      "execution_count": 220,
      "outputs": [
        {
          "execution_count": 220,
          "output_type": "execute_result",
          "data": {
            "text/plain": "DecisionTreeClassifier()",
            "text/html": "<style>#sk-container-id-19 {color: black;background-color: white;}#sk-container-id-19 pre{padding: 0;}#sk-container-id-19 div.sk-toggleable {background-color: white;}#sk-container-id-19 label.sk-toggleable__label {cursor: pointer;display: block;width: 100%;margin-bottom: 0;padding: 0.3em;box-sizing: border-box;text-align: center;}#sk-container-id-19 label.sk-toggleable__label-arrow:before {content: \"▸\";float: left;margin-right: 0.25em;color: #696969;}#sk-container-id-19 label.sk-toggleable__label-arrow:hover:before {color: black;}#sk-container-id-19 div.sk-estimator:hover label.sk-toggleable__label-arrow:before {color: black;}#sk-container-id-19 div.sk-toggleable__content {max-height: 0;max-width: 0;overflow: hidden;text-align: left;background-color: #f0f8ff;}#sk-container-id-19 div.sk-toggleable__content pre {margin: 0.2em;color: black;border-radius: 0.25em;background-color: #f0f8ff;}#sk-container-id-19 input.sk-toggleable__control:checked~div.sk-toggleable__content {max-height: 200px;max-width: 100%;overflow: auto;}#sk-container-id-19 input.sk-toggleable__control:checked~label.sk-toggleable__label-arrow:before {content: \"▾\";}#sk-container-id-19 div.sk-estimator input.sk-toggleable__control:checked~label.sk-toggleable__label {background-color: #d4ebff;}#sk-container-id-19 div.sk-label input.sk-toggleable__control:checked~label.sk-toggleable__label {background-color: #d4ebff;}#sk-container-id-19 input.sk-hidden--visually {border: 0;clip: rect(1px 1px 1px 1px);clip: rect(1px, 1px, 1px, 1px);height: 1px;margin: -1px;overflow: hidden;padding: 0;position: absolute;width: 1px;}#sk-container-id-19 div.sk-estimator {font-family: monospace;background-color: #f0f8ff;border: 1px dotted black;border-radius: 0.25em;box-sizing: border-box;margin-bottom: 0.5em;}#sk-container-id-19 div.sk-estimator:hover {background-color: #d4ebff;}#sk-container-id-19 div.sk-parallel-item::after {content: \"\";width: 100%;border-bottom: 1px solid gray;flex-grow: 1;}#sk-container-id-19 div.sk-label:hover label.sk-toggleable__label {background-color: #d4ebff;}#sk-container-id-19 div.sk-serial::before {content: \"\";position: absolute;border-left: 1px solid gray;box-sizing: border-box;top: 0;bottom: 0;left: 50%;z-index: 0;}#sk-container-id-19 div.sk-serial {display: flex;flex-direction: column;align-items: center;background-color: white;padding-right: 0.2em;padding-left: 0.2em;position: relative;}#sk-container-id-19 div.sk-item {position: relative;z-index: 1;}#sk-container-id-19 div.sk-parallel {display: flex;align-items: stretch;justify-content: center;background-color: white;position: relative;}#sk-container-id-19 div.sk-item::before, #sk-container-id-19 div.sk-parallel-item::before {content: \"\";position: absolute;border-left: 1px solid gray;box-sizing: border-box;top: 0;bottom: 0;left: 50%;z-index: -1;}#sk-container-id-19 div.sk-parallel-item {display: flex;flex-direction: column;z-index: 1;position: relative;background-color: white;}#sk-container-id-19 div.sk-parallel-item:first-child::after {align-self: flex-end;width: 50%;}#sk-container-id-19 div.sk-parallel-item:last-child::after {align-self: flex-start;width: 50%;}#sk-container-id-19 div.sk-parallel-item:only-child::after {width: 0;}#sk-container-id-19 div.sk-dashed-wrapped {border: 1px dashed gray;margin: 0 0.4em 0.5em 0.4em;box-sizing: border-box;padding-bottom: 0.4em;background-color: white;}#sk-container-id-19 div.sk-label label {font-family: monospace;font-weight: bold;display: inline-block;line-height: 1.2em;}#sk-container-id-19 div.sk-label-container {text-align: center;}#sk-container-id-19 div.sk-container {/* jupyter's `normalize.less` sets `[hidden] { display: none; }` but bootstrap.min.css set `[hidden] { display: none !important; }` so we also need the `!important` here to be able to override the default hidden behavior on the sphinx rendered scikit-learn.org. See: https://github.com/scikit-learn/scikit-learn/issues/21755 */display: inline-block !important;position: relative;}#sk-container-id-19 div.sk-text-repr-fallback {display: none;}</style><div id=\"sk-container-id-19\" class=\"sk-top-container\"><div class=\"sk-text-repr-fallback\"><pre>DecisionTreeClassifier()</pre><b>In a Jupyter environment, please rerun this cell to show the HTML representation or trust the notebook. <br />On GitHub, the HTML representation is unable to render, please try loading this page with nbviewer.org.</b></div><div class=\"sk-container\" hidden><div class=\"sk-item\"><div class=\"sk-estimator sk-toggleable\"><input class=\"sk-toggleable__control sk-hidden--visually\" id=\"sk-estimator-id-19\" type=\"checkbox\" checked><label for=\"sk-estimator-id-19\" class=\"sk-toggleable__label sk-toggleable__label-arrow\">DecisionTreeClassifier</label><div class=\"sk-toggleable__content\"><pre>DecisionTreeClassifier()</pre></div></div></div></div></div>"
          },
          "metadata": {}
        }
      ]
    },
    {
      "cell_type": "code",
      "source": "y_pred_DCT= model_DCT.predict(X_test_dense)",
      "metadata": {
        "trusted": true
      },
      "execution_count": 221,
      "outputs": []
    },
    {
      "cell_type": "code",
      "source": "accuracy_DCT = accuracy_score(y_test_dense, y_pred_DCT)\nprecision_DCT = precision_score(y_test_dense, y_pred_DCT)\nrecall_DCT = recall_score(y_test_dense, y_pred_DCT)\nf1_DCT = f1_score(y_test_dense, y_pred_DCT)",
      "metadata": {
        "trusted": true
      },
      "execution_count": 222,
      "outputs": []
    },
    {
      "cell_type": "code",
      "source": "print(\"Decision Tree Algoritması İçin Sonuçlar\")\nprint(\"Doğruluk(Accuracy):\", accuracy_DCT)\nprint(\"Kesinlik(Precision):\", precision_DCT)\nprint(\"Duyarlılık(Recall):\", recall_DCT)\nprint(\"F1 Skor:\", f1_DCT)",
      "metadata": {
        "trusted": true
      },
      "execution_count": 223,
      "outputs": [
        {
          "name": "stdout",
          "text": "Decision Tree Algoritması İçin Sonuçlar\nDoğruluk(Accuracy): 0.84251968503937\nKesinlik(Precision): 0.8241758241758241\nDuyarlılık(Recall): 0.9493670886075949\nF1 Skor: 0.8823529411764706\n",
          "output_type": "stream"
        }
      ]
    },
    {
      "cell_type": "code",
      "source": "",
      "metadata": {},
      "execution_count": null,
      "outputs": []
    },
    {
      "cell_type": "code",
      "source": "",
      "metadata": {},
      "execution_count": null,
      "outputs": []
    }
  ]
}